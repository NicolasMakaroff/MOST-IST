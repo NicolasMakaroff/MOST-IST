{
 "cells": [
  {
   "cell_type": "code",
   "execution_count": 1,
   "metadata": {},
   "outputs": [],
   "source": [
    "import pandas as pd\n",
    "from matplotlib import pyplot as plt\n",
    "import numpy as np\n",
    "import datetime\n",
    "from math import *\n",
    "%matplotlib inline\n",
    "plt.style.use('ggplot')\n",
    "plt.rcParams[\"figure.figsize\"] = [16,9]"
   ]
  },
  {
   "cell_type": "code",
   "execution_count": 2,
   "metadata": {},
   "outputs": [],
   "source": [
    "train_data = pd.read_csv('nyc-taxi-trip-duration/train.csv')\n",
    "test_data = pd.read_csv('nyc-taxi-trip-duration/test.csv')\n",
    "#osmr_1 = pd.read_csv('new-york-city-taxi-with-osrm/fastest_routes_train_part_1.csv', \n",
    "                     #usecols=['id', 'total_distance', 'total_travel_time', 'number_of_steps'])\n",
    "#osmr_2 = pd.read_csv('new-york-city-taxi-with-osrm/fastest_routes_train_part_2.csv',\n",
    "                     #usecols=['id', 'total_distance', 'total_travel_time', 'number_of_steps'])"
   ]
  },
  {
   "cell_type": "code",
   "execution_count": 3,
   "metadata": {},
   "outputs": [
    {
     "data": {
      "text/html": [
       "<div>\n",
       "<style scoped>\n",
       "    .dataframe tbody tr th:only-of-type {\n",
       "        vertical-align: middle;\n",
       "    }\n",
       "\n",
       "    .dataframe tbody tr th {\n",
       "        vertical-align: top;\n",
       "    }\n",
       "\n",
       "    .dataframe thead th {\n",
       "        text-align: right;\n",
       "    }\n",
       "</style>\n",
       "<table border=\"1\" class=\"dataframe\">\n",
       "  <thead>\n",
       "    <tr style=\"text-align: right;\">\n",
       "      <th></th>\n",
       "      <th>id</th>\n",
       "      <th>vendor_id</th>\n",
       "      <th>pickup_datetime</th>\n",
       "      <th>passenger_count</th>\n",
       "      <th>pickup_longitude</th>\n",
       "      <th>pickup_latitude</th>\n",
       "      <th>dropoff_longitude</th>\n",
       "      <th>dropoff_latitude</th>\n",
       "      <th>store_and_fwd_flag</th>\n",
       "    </tr>\n",
       "  </thead>\n",
       "  <tbody>\n",
       "    <tr>\n",
       "      <th>0</th>\n",
       "      <td>id3004672</td>\n",
       "      <td>1</td>\n",
       "      <td>2016-06-30 23:59:58</td>\n",
       "      <td>1</td>\n",
       "      <td>-73.988129</td>\n",
       "      <td>40.732029</td>\n",
       "      <td>-73.990173</td>\n",
       "      <td>40.756680</td>\n",
       "      <td>N</td>\n",
       "    </tr>\n",
       "    <tr>\n",
       "      <th>1</th>\n",
       "      <td>id3505355</td>\n",
       "      <td>1</td>\n",
       "      <td>2016-06-30 23:59:53</td>\n",
       "      <td>1</td>\n",
       "      <td>-73.964203</td>\n",
       "      <td>40.679993</td>\n",
       "      <td>-73.959808</td>\n",
       "      <td>40.655403</td>\n",
       "      <td>N</td>\n",
       "    </tr>\n",
       "    <tr>\n",
       "      <th>2</th>\n",
       "      <td>id1217141</td>\n",
       "      <td>1</td>\n",
       "      <td>2016-06-30 23:59:47</td>\n",
       "      <td>1</td>\n",
       "      <td>-73.997437</td>\n",
       "      <td>40.737583</td>\n",
       "      <td>-73.986160</td>\n",
       "      <td>40.729523</td>\n",
       "      <td>N</td>\n",
       "    </tr>\n",
       "    <tr>\n",
       "      <th>3</th>\n",
       "      <td>id2150126</td>\n",
       "      <td>2</td>\n",
       "      <td>2016-06-30 23:59:41</td>\n",
       "      <td>1</td>\n",
       "      <td>-73.956070</td>\n",
       "      <td>40.771900</td>\n",
       "      <td>-73.986427</td>\n",
       "      <td>40.730469</td>\n",
       "      <td>N</td>\n",
       "    </tr>\n",
       "    <tr>\n",
       "      <th>4</th>\n",
       "      <td>id1598245</td>\n",
       "      <td>1</td>\n",
       "      <td>2016-06-30 23:59:33</td>\n",
       "      <td>1</td>\n",
       "      <td>-73.970215</td>\n",
       "      <td>40.761475</td>\n",
       "      <td>-73.961510</td>\n",
       "      <td>40.755890</td>\n",
       "      <td>N</td>\n",
       "    </tr>\n",
       "  </tbody>\n",
       "</table>\n",
       "</div>"
      ],
      "text/plain": [
       "          id  vendor_id      pickup_datetime  passenger_count  \\\n",
       "0  id3004672          1  2016-06-30 23:59:58                1   \n",
       "1  id3505355          1  2016-06-30 23:59:53                1   \n",
       "2  id1217141          1  2016-06-30 23:59:47                1   \n",
       "3  id2150126          2  2016-06-30 23:59:41                1   \n",
       "4  id1598245          1  2016-06-30 23:59:33                1   \n",
       "\n",
       "   pickup_longitude  pickup_latitude  dropoff_longitude  dropoff_latitude  \\\n",
       "0        -73.988129        40.732029         -73.990173         40.756680   \n",
       "1        -73.964203        40.679993         -73.959808         40.655403   \n",
       "2        -73.997437        40.737583         -73.986160         40.729523   \n",
       "3        -73.956070        40.771900         -73.986427         40.730469   \n",
       "4        -73.970215        40.761475         -73.961510         40.755890   \n",
       "\n",
       "  store_and_fwd_flag  \n",
       "0                  N  \n",
       "1                  N  \n",
       "2                  N  \n",
       "3                  N  \n",
       "4                  N  "
      ]
     },
     "execution_count": 3,
     "metadata": {},
     "output_type": "execute_result"
    }
   ],
   "source": [
    "test_data.head()"
   ]
  },
  {
   "cell_type": "code",
   "execution_count": 4,
   "metadata": {},
   "outputs": [
    {
     "data": {
      "text/plain": [
       "(625134, 9)"
      ]
     },
     "execution_count": 4,
     "metadata": {},
     "output_type": "execute_result"
    }
   ],
   "source": [
    "test_data.shape"
   ]
  },
  {
   "cell_type": "markdown",
   "metadata": {},
   "source": [
    "We first add new features that seems to be intersting in our modelisation problem. We define a direction features based on initial and final destination using geospatial formula. "
   ]
  },
  {
   "cell_type": "code",
   "execution_count": 5,
   "metadata": {},
   "outputs": [],
   "source": [
    "def haversine_array(lat1, lng1, lat2, lng2):\n",
    "    lat1, lng1, lat2, lng2 = map(np.radians, (lat1, lng1, lat2, lng2))\n",
    "    AVG_EARTH_RADIUS = 6371  # in km\n",
    "    lat = lat2 - lat1\n",
    "    lng = lng2 - lng1\n",
    "    d = np.sin(lat * 0.5) ** 2 + np.cos(lat1) * np.cos(lat2) * np.sin(lng * 0.5) ** 2\n",
    "    h = 2 * AVG_EARTH_RADIUS * np.arcsin(np.sqrt(d))\n",
    "    return h\n",
    "\n",
    "def dummy_manhattan_distance(lat1, lng1, lat2, lng2):\n",
    "    a = haversine_array(lat1, lng1, lat1, lng2)\n",
    "    b = haversine_array(lat1, lng1, lat2, lng1)\n",
    "    return a + b\n",
    "\n",
    "def bearing_array(lat1, lng1, lat2, lng2):\n",
    "    AVG_EARTH_RADIUS = 6371  # in km\n",
    "    lng_delta_rad = np.radians(lng2 - lng1)\n",
    "    lat1, lng1, lat2, lng2 = map(np.radians, (lat1, lng1, lat2, lng2))\n",
    "    y = np.sin(lng_delta_rad) * np.cos(lat2)\n",
    "    x = np.cos(lat1) * np.sin(lat2) - np.sin(lat1) * np.cos(lat2) * np.cos(lng_delta_rad)\n",
    "    return np.degrees(np.arctan2(y, x))\n",
    "\n",
    "jfk_coord = pd.DataFrame(np.array([[-73.778889,40.639722]]),columns=['lon','lat'])\n",
    "la_guardia_coord = pd.DataFrame(np.array([[-73.872611,40.77725]]),columns=['lon','lat'])\n"
   ]
  },
  {
   "cell_type": "code",
   "execution_count": 6,
   "metadata": {},
   "outputs": [],
   "source": [
    "test_data.loc[:, 'direction'] = bearing_array(test_data['pickup_latitude'].values, \n",
    "                                          test_data['pickup_longitude'].values, \n",
    "                                          test_data['dropoff_latitude'].values, \n",
    "                                          test_data['dropoff_longitude'].values)\n",
    "test_data.loc[:, 'distance_haversine'] = haversine_array(test_data['pickup_latitude'].values, \n",
    "                                                     test_data['pickup_longitude'].values, \n",
    "                                                     test_data['dropoff_latitude'].values, \n",
    "                                                     test_data['dropoff_longitude'].values)\n",
    "test_data.loc[:, 'distance_dummy_manhattan'] = dummy_manhattan_distance(test_data['pickup_latitude'].values, \n",
    "                                                                    test_data['pickup_longitude'].values, \n",
    "                                                                    test_data['dropoff_latitude'].values, \n",
    "                                                                    test_data['dropoff_longitude'].values)\n",
    "\n",
    "test_data['pickup_datetime'] = pd.to_datetime(test_data['pickup_datetime'])\n",
    "#test_data['dropoff_datetime'] = pd.to_datetime(test_data['dropoff_datetime'])\n",
    "test_data['pickup_year'] = test_data['pickup_datetime'].dt.year\n",
    "test_data['pickup_month'] = test_data['pickup_datetime'].dt.month\n",
    "test_data['pickup_day'] = test_data['pickup_datetime'].dt.day\n",
    "test_data['pickup_hour'] = test_data['pickup_datetime'].dt.hour\n",
    "test_data['pickup_minute'] = test_data['pickup_datetime'].dt.minute\n",
    "test_data['pickup_weekday'] = test_data['pickup_datetime'].dt.weekday\n",
    "\n",
    "test_data['jfk_dist_pick'] = haversine_array(test_data['pickup_latitude'].values, \n",
    "                                              test_data['pickup_longitude'].values,\n",
    "                                             jfk_coord['lat'].values, jfk_coord['lon'].values)\n",
    "test_data['jfk_dist_drop'] = haversine_array(test_data['dropoff_latitude'].values, \n",
    "                                              test_data['dropoff_longitude'].values,\n",
    "                                             jfk_coord['lat'].values, jfk_coord['lon'].values)\n",
    "test_data['lg_dist_pick'] = haversine_array(test_data['pickup_latitude'].values, \n",
    "                                              test_data['pickup_longitude'].values,\n",
    "                                             la_guardia_coord['lat'].values, la_guardia_coord['lon'].values)\n",
    "test_data['lg_dist_drop'] = haversine_array(test_data['dropoff_latitude'].values, \n",
    "                                              test_data['dropoff_longitude'].values,\n",
    "                                             la_guardia_coord['lat'].values, la_guardia_coord['lon'].values)\n",
    "test_data['jfk_trip'] = (test_data['jfk_dist_pick'] < 2e3) | (test_data['jfk_dist_drop'] < 2e3)\n",
    "test_data['jfk_trip'].astype(int)\n",
    "test_data['lg_trip'] = (test_data['lg_dist_pick'] < 2e3) | (test_data['lg_dist_drop'] < 2e3)\n",
    "test_data['lg_trip'].astype(int)\n",
    "test_data['work'] = (test_data['pickup_hour'].isin(range(8,18))) & (test_data['pickup_weekday'].isin([0,1,2,3,4]))\n",
    "test_data['work'].astype(int)\n",
    "test_data['date'] = test_data['pickup_datetime'].dt.date\n",
    "\n",
    "#test_data['speed'] = test_data['distance_haversine']/(test_data['trip_duration']/3600)"
   ]
  },
  {
   "cell_type": "code",
   "execution_count": 7,
   "metadata": {},
   "outputs": [
    {
     "name": "stdout",
     "output_type": "stream",
     "text": [
      "(625134, 26)\n"
     ]
    }
   ],
   "source": [
    "np.sum(test_data.isna())\n",
    "print(test_data.shape)"
   ]
  },
  {
   "cell_type": "code",
   "execution_count": 8,
   "metadata": {},
   "outputs": [
    {
     "data": {
      "text/plain": [
       "(625134, 26)"
      ]
     },
     "execution_count": 8,
     "metadata": {},
     "output_type": "execute_result"
    }
   ],
   "source": [
    "test_data.shape"
   ]
  },
  {
   "cell_type": "code",
   "execution_count": 9,
   "metadata": {},
   "outputs": [
    {
     "data": {
      "text/plain": [
       "\"train_data = train_data[train_data['trip_duration'] < (22*3600)]\\n#isclose = isclose(train_data['distance_haversine'].values,0)\\ntrain_data = train_data[(train_data['distance_haversine']>0) | (train_data['trip_duration']<60)] \\ntrain_data = train_data[(train_data['jfk_dist_pick'] < 3e5) & (train_data['jfk_dist_drop'] < 3e5)]\\ntrain_data = train_data[train_data['trip_duration'] > 10]\\ntrain_data = train_data[train_data['speed'] < 100]\\n\""
      ]
     },
     "execution_count": 9,
     "metadata": {},
     "output_type": "execute_result"
    }
   ],
   "source": [
    "\"\"\"train_data = train_data[train_data['trip_duration'] < (22*3600)]\n",
    "#isclose = isclose(train_data['distance_haversine'].values,0)\n",
    "train_data = train_data[(train_data['distance_haversine']>0) | (train_data['trip_duration']<60)] \n",
    "train_data = train_data[(train_data['jfk_dist_pick'] < 3e5) & (train_data['jfk_dist_drop'] < 3e5)]\n",
    "train_data = train_data[train_data['trip_duration'] > 10]\n",
    "train_data = train_data[train_data['speed'] < 100]\n",
    "\"\"\""
   ]
  },
  {
   "cell_type": "code",
   "execution_count": null,
   "metadata": {},
   "outputs": [],
   "source": []
  },
  {
   "cell_type": "code",
   "execution_count": null,
   "metadata": {},
   "outputs": [],
   "source": []
  },
  {
   "cell_type": "code",
   "execution_count": 10,
   "metadata": {},
   "outputs": [],
   "source": [
    "weather = pd.read_csv('weather/weather_data_nyc_centralpark_2016.csv')"
   ]
  },
  {
   "cell_type": "code",
   "execution_count": 11,
   "metadata": {},
   "outputs": [
    {
     "data": {
      "text/html": [
       "<div>\n",
       "<style scoped>\n",
       "    .dataframe tbody tr th:only-of-type {\n",
       "        vertical-align: middle;\n",
       "    }\n",
       "\n",
       "    .dataframe tbody tr th {\n",
       "        vertical-align: top;\n",
       "    }\n",
       "\n",
       "    .dataframe thead th {\n",
       "        text-align: right;\n",
       "    }\n",
       "</style>\n",
       "<table border=\"1\" class=\"dataframe\">\n",
       "  <thead>\n",
       "    <tr style=\"text-align: right;\">\n",
       "      <th></th>\n",
       "      <th>date</th>\n",
       "      <th>maximum temperature</th>\n",
       "      <th>minimum temperature</th>\n",
       "      <th>average temperature</th>\n",
       "      <th>precipitation</th>\n",
       "      <th>snow fall</th>\n",
       "      <th>snow depth</th>\n",
       "    </tr>\n",
       "  </thead>\n",
       "  <tbody>\n",
       "    <tr>\n",
       "      <th>0</th>\n",
       "      <td>1-1-2016</td>\n",
       "      <td>42</td>\n",
       "      <td>34</td>\n",
       "      <td>38.0</td>\n",
       "      <td>0.00</td>\n",
       "      <td>0.0</td>\n",
       "      <td>0</td>\n",
       "    </tr>\n",
       "    <tr>\n",
       "      <th>1</th>\n",
       "      <td>2-1-2016</td>\n",
       "      <td>40</td>\n",
       "      <td>32</td>\n",
       "      <td>36.0</td>\n",
       "      <td>0.00</td>\n",
       "      <td>0.0</td>\n",
       "      <td>0</td>\n",
       "    </tr>\n",
       "    <tr>\n",
       "      <th>2</th>\n",
       "      <td>3-1-2016</td>\n",
       "      <td>45</td>\n",
       "      <td>35</td>\n",
       "      <td>40.0</td>\n",
       "      <td>0.00</td>\n",
       "      <td>0.0</td>\n",
       "      <td>0</td>\n",
       "    </tr>\n",
       "    <tr>\n",
       "      <th>3</th>\n",
       "      <td>4-1-2016</td>\n",
       "      <td>36</td>\n",
       "      <td>14</td>\n",
       "      <td>25.0</td>\n",
       "      <td>0.00</td>\n",
       "      <td>0.0</td>\n",
       "      <td>0</td>\n",
       "    </tr>\n",
       "    <tr>\n",
       "      <th>4</th>\n",
       "      <td>5-1-2016</td>\n",
       "      <td>29</td>\n",
       "      <td>11</td>\n",
       "      <td>20.0</td>\n",
       "      <td>0.00</td>\n",
       "      <td>0.0</td>\n",
       "      <td>0</td>\n",
       "    </tr>\n",
       "  </tbody>\n",
       "</table>\n",
       "</div>"
      ],
      "text/plain": [
       "       date  maximum temperature  minimum temperature  average temperature  \\\n",
       "0  1-1-2016                   42                   34                 38.0   \n",
       "1  2-1-2016                   40                   32                 36.0   \n",
       "2  3-1-2016                   45                   35                 40.0   \n",
       "3  4-1-2016                   36                   14                 25.0   \n",
       "4  5-1-2016                   29                   11                 20.0   \n",
       "\n",
       "  precipitation snow fall snow depth  \n",
       "0          0.00       0.0          0  \n",
       "1          0.00       0.0          0  \n",
       "2          0.00       0.0          0  \n",
       "3          0.00       0.0          0  \n",
       "4          0.00       0.0          0  "
      ]
     },
     "execution_count": 11,
     "metadata": {},
     "output_type": "execute_result"
    }
   ],
   "source": [
    "weather.head()"
   ]
  },
  {
   "cell_type": "code",
   "execution_count": 12,
   "metadata": {},
   "outputs": [
    {
     "data": {
      "text/html": [
       "<div>\n",
       "<style scoped>\n",
       "    .dataframe tbody tr th:only-of-type {\n",
       "        vertical-align: middle;\n",
       "    }\n",
       "\n",
       "    .dataframe tbody tr th {\n",
       "        vertical-align: top;\n",
       "    }\n",
       "\n",
       "    .dataframe thead th {\n",
       "        text-align: right;\n",
       "    }\n",
       "</style>\n",
       "<table border=\"1\" class=\"dataframe\">\n",
       "  <thead>\n",
       "    <tr style=\"text-align: right;\">\n",
       "      <th></th>\n",
       "      <th>date</th>\n",
       "      <th>maximum temperature</th>\n",
       "      <th>minimum temperature</th>\n",
       "      <th>average temperature</th>\n",
       "      <th>precipitation</th>\n",
       "      <th>snow fall</th>\n",
       "      <th>snow depth</th>\n",
       "      <th>rain</th>\n",
       "      <th>s_fall</th>\n",
       "      <th>s_depth</th>\n",
       "      <th>all_precip</th>\n",
       "      <th>has_snow</th>\n",
       "      <th>has_rain</th>\n",
       "    </tr>\n",
       "  </thead>\n",
       "  <tbody>\n",
       "    <tr>\n",
       "      <th>0</th>\n",
       "      <td>2016-01-01</td>\n",
       "      <td>42</td>\n",
       "      <td>34</td>\n",
       "      <td>38.0</td>\n",
       "      <td>0.00</td>\n",
       "      <td>0.0</td>\n",
       "      <td>0</td>\n",
       "      <td>0.0</td>\n",
       "      <td>0.0</td>\n",
       "      <td>0.0</td>\n",
       "      <td>0.0</td>\n",
       "      <td>False</td>\n",
       "      <td>False</td>\n",
       "    </tr>\n",
       "    <tr>\n",
       "      <th>1</th>\n",
       "      <td>2016-01-02</td>\n",
       "      <td>40</td>\n",
       "      <td>32</td>\n",
       "      <td>36.0</td>\n",
       "      <td>0.00</td>\n",
       "      <td>0.0</td>\n",
       "      <td>0</td>\n",
       "      <td>0.0</td>\n",
       "      <td>0.0</td>\n",
       "      <td>0.0</td>\n",
       "      <td>0.0</td>\n",
       "      <td>False</td>\n",
       "      <td>False</td>\n",
       "    </tr>\n",
       "    <tr>\n",
       "      <th>2</th>\n",
       "      <td>2016-01-03</td>\n",
       "      <td>45</td>\n",
       "      <td>35</td>\n",
       "      <td>40.0</td>\n",
       "      <td>0.00</td>\n",
       "      <td>0.0</td>\n",
       "      <td>0</td>\n",
       "      <td>0.0</td>\n",
       "      <td>0.0</td>\n",
       "      <td>0.0</td>\n",
       "      <td>0.0</td>\n",
       "      <td>False</td>\n",
       "      <td>False</td>\n",
       "    </tr>\n",
       "    <tr>\n",
       "      <th>3</th>\n",
       "      <td>2016-01-04</td>\n",
       "      <td>36</td>\n",
       "      <td>14</td>\n",
       "      <td>25.0</td>\n",
       "      <td>0.00</td>\n",
       "      <td>0.0</td>\n",
       "      <td>0</td>\n",
       "      <td>0.0</td>\n",
       "      <td>0.0</td>\n",
       "      <td>0.0</td>\n",
       "      <td>0.0</td>\n",
       "      <td>False</td>\n",
       "      <td>False</td>\n",
       "    </tr>\n",
       "    <tr>\n",
       "      <th>4</th>\n",
       "      <td>2016-01-05</td>\n",
       "      <td>29</td>\n",
       "      <td>11</td>\n",
       "      <td>20.0</td>\n",
       "      <td>0.00</td>\n",
       "      <td>0.0</td>\n",
       "      <td>0</td>\n",
       "      <td>0.0</td>\n",
       "      <td>0.0</td>\n",
       "      <td>0.0</td>\n",
       "      <td>0.0</td>\n",
       "      <td>False</td>\n",
       "      <td>False</td>\n",
       "    </tr>\n",
       "  </tbody>\n",
       "</table>\n",
       "</div>"
      ],
      "text/plain": [
       "        date  maximum temperature  minimum temperature  average temperature  \\\n",
       "0 2016-01-01                   42                   34                 38.0   \n",
       "1 2016-01-02                   40                   32                 36.0   \n",
       "2 2016-01-03                   45                   35                 40.0   \n",
       "3 2016-01-04                   36                   14                 25.0   \n",
       "4 2016-01-05                   29                   11                 20.0   \n",
       "\n",
       "  precipitation snow fall snow depth  rain  s_fall  s_depth  all_precip  \\\n",
       "0          0.00       0.0          0   0.0     0.0      0.0         0.0   \n",
       "1          0.00       0.0          0   0.0     0.0      0.0         0.0   \n",
       "2          0.00       0.0          0   0.0     0.0      0.0         0.0   \n",
       "3          0.00       0.0          0   0.0     0.0      0.0         0.0   \n",
       "4          0.00       0.0          0   0.0     0.0      0.0         0.0   \n",
       "\n",
       "   has_snow  has_rain  \n",
       "0     False     False  \n",
       "1     False     False  \n",
       "2     False     False  \n",
       "3     False     False  \n",
       "4     False     False  "
      ]
     },
     "execution_count": 12,
     "metadata": {},
     "output_type": "execute_result"
    }
   ],
   "source": [
    "weather['date'] = weather['date'].apply(lambda x : datetime.datetime.strptime(x, '%d-%m-%Y'))\n",
    "def Tto(x):\n",
    "    if x == 'T':\n",
    "        return(0.01)\n",
    "    else:\n",
    "        return(x)\n",
    "    \n",
    "weather['rain'] = weather['precipitation'].apply(lambda x : Tto(x)).astype(float)\n",
    "weather['s_fall'] = weather['snow fall'].apply(lambda x : Tto(x)).astype(float)\n",
    "weather['s_depth'] = weather['snow depth'].apply(lambda x : Tto(x)).astype(float)\n",
    "weather['all_precip'] = (weather['rain'].values + weather['s_fall'].values)\n",
    "weather['has_snow'] = ((weather['s_fall'] > 0) | (weather['s_depth'] >0))\n",
    "weather['has_rain'] = (weather['rain'] > 0) \n",
    "\n",
    "weather.head()"
   ]
  },
  {
   "cell_type": "code",
   "execution_count": 13,
   "metadata": {},
   "outputs": [],
   "source": [
    "weather['date'] = pd.to_datetime(weather['date'])\n",
    "test_data['date'] = pd.to_datetime(test_data['date'])\n",
    "\n",
    "test_data = pd.merge(test_data, weather[['date','rain', 's_fall', 'all_precip', 'has_snow', 'has_rain','s_depth',\n",
    "                                             'minimum temperature','maximum temperature']], on = 'date', how = 'left')\n",
    "\n",
    "\n"
   ]
  },
  {
   "cell_type": "code",
   "execution_count": 14,
   "metadata": {},
   "outputs": [
    {
     "name": "stdout",
     "output_type": "stream",
     "text": [
      "(625134, 34)\n"
     ]
    },
    {
     "data": {
      "text/plain": [
       "id                          0\n",
       "vendor_id                   0\n",
       "pickup_datetime             0\n",
       "passenger_count             0\n",
       "pickup_longitude            0\n",
       "pickup_latitude             0\n",
       "dropoff_longitude           0\n",
       "dropoff_latitude            0\n",
       "store_and_fwd_flag          0\n",
       "direction                   0\n",
       "distance_haversine          0\n",
       "distance_dummy_manhattan    0\n",
       "pickup_year                 0\n",
       "pickup_month                0\n",
       "pickup_day                  0\n",
       "pickup_hour                 0\n",
       "pickup_minute               0\n",
       "pickup_weekday              0\n",
       "jfk_dist_pick               0\n",
       "jfk_dist_drop               0\n",
       "lg_dist_pick                0\n",
       "lg_dist_drop                0\n",
       "jfk_trip                    0\n",
       "lg_trip                     0\n",
       "work                        0\n",
       "date                        0\n",
       "rain                        0\n",
       "s_fall                      0\n",
       "all_precip                  0\n",
       "has_snow                    0\n",
       "has_rain                    0\n",
       "s_depth                     0\n",
       "minimum temperature         0\n",
       "maximum temperature         0\n",
       "dtype: int64"
      ]
     },
     "execution_count": 14,
     "metadata": {},
     "output_type": "execute_result"
    }
   ],
   "source": [
    "print(test_data.shape)\n",
    "np.sum(test_data.isna())"
   ]
  },
  {
   "cell_type": "code",
   "execution_count": 15,
   "metadata": {},
   "outputs": [],
   "source": [
    "osmr_1 = pd.read_csv('new-york-city-taxi-with-osrm/fastest_routes_train_part_1.csv',\n",
    "                    usecols=['id', 'total_distance', 'total_travel_time','number_of_steps',\n",
    "                              'step_direction', 'step_maneuvers'])\n",
    "osmr_2 = pd.read_csv('new-york-city-taxi-with-osrm/fastest_routes_train_part_2.csv',\n",
    "                    usecols=['id', 'total_distance', 'total_travel_time','number_of_steps',\n",
    "                              'step_direction', 'step_maneuvers'])\n",
    "osmr_3 = pd.read_csv('new-york-city-taxi-with-osrm/fastest_routes_test.csv',\n",
    "                     usecols=['id', 'total_distance', 'total_travel_time','number_of_steps',\n",
    "                              'step_direction', 'step_maneuvers'])"
   ]
  },
  {
   "cell_type": "code",
   "execution_count": 16,
   "metadata": {},
   "outputs": [
    {
     "data": {
      "text/plain": [
       "(625134, 6)"
      ]
     },
     "execution_count": 16,
     "metadata": {},
     "output_type": "execute_result"
    }
   ],
   "source": [
    "osmr_3.shape"
   ]
  },
  {
   "cell_type": "code",
   "execution_count": 17,
   "metadata": {},
   "outputs": [
    {
     "data": {
      "text/plain": [
       "id                   0\n",
       "total_distance       0\n",
       "total_travel_time    0\n",
       "number_of_steps      0\n",
       "fastest_speed        0\n",
       "left_turns           0\n",
       "right_turns          0\n",
       "turns                0\n",
       "dtype: int64"
      ]
     },
     "execution_count": 17,
     "metadata": {},
     "output_type": "execute_result"
    }
   ],
   "source": [
    "temp = osmr_3\n",
    "temp['fastest_speed'] = (temp['total_distance']/(temp['total_travel_time']+1)*3.6)\n",
    "temp['left_turns'] = temp['step_direction'].str.count('left')\n",
    "temp['right_turns'] = temp['step_direction'].str.count('right')\n",
    "temp['turns'] = temp['step_maneuvers'].str.count('turn')\n",
    "temp = temp.drop(columns=['step_direction','step_maneuvers'])\n",
    "\n",
    "np.sum(temp.isna())"
   ]
  },
  {
   "cell_type": "code",
   "execution_count": 18,
   "metadata": {},
   "outputs": [
    {
     "data": {
      "text/plain": [
       "0          200.2\n",
       "1          141.5\n",
       "2          324.6\n",
       "3           84.2\n",
       "4          294.7\n",
       "           ...  \n",
       "625129     417.4\n",
       "625130     890.4\n",
       "625131     896.6\n",
       "625132    1056.4\n",
       "625133       0.0\n",
       "Name: total_travel_time, Length: 625134, dtype: float64"
      ]
     },
     "execution_count": 18,
     "metadata": {},
     "output_type": "execute_result"
    }
   ],
   "source": [
    "temp['total_travel_time']"
   ]
  },
  {
   "cell_type": "code",
   "execution_count": 19,
   "metadata": {},
   "outputs": [],
   "source": [
    "test_data = pd.merge(test_data, temp, on = 'id', how = 'left')\n",
    "\n",
    "\n"
   ]
  },
  {
   "cell_type": "code",
   "execution_count": 20,
   "metadata": {},
   "outputs": [],
   "source": [
    "#print(fastest_routes['id']=='id3505355')"
   ]
  },
  {
   "cell_type": "code",
   "execution_count": 21,
   "metadata": {},
   "outputs": [
    {
     "data": {
      "text/plain": [
       "id                          0\n",
       "vendor_id                   0\n",
       "pickup_datetime             0\n",
       "passenger_count             0\n",
       "pickup_longitude            0\n",
       "pickup_latitude             0\n",
       "dropoff_longitude           0\n",
       "dropoff_latitude            0\n",
       "store_and_fwd_flag          0\n",
       "direction                   0\n",
       "distance_haversine          0\n",
       "distance_dummy_manhattan    0\n",
       "pickup_year                 0\n",
       "pickup_month                0\n",
       "pickup_day                  0\n",
       "pickup_hour                 0\n",
       "pickup_minute               0\n",
       "pickup_weekday              0\n",
       "jfk_dist_pick               0\n",
       "jfk_dist_drop               0\n",
       "lg_dist_pick                0\n",
       "lg_dist_drop                0\n",
       "jfk_trip                    0\n",
       "lg_trip                     0\n",
       "work                        0\n",
       "date                        0\n",
       "rain                        0\n",
       "s_fall                      0\n",
       "all_precip                  0\n",
       "has_snow                    0\n",
       "has_rain                    0\n",
       "s_depth                     0\n",
       "minimum temperature         0\n",
       "maximum temperature         0\n",
       "total_distance              0\n",
       "total_travel_time           0\n",
       "number_of_steps             0\n",
       "fastest_speed               0\n",
       "left_turns                  0\n",
       "right_turns                 0\n",
       "turns                       0\n",
       "dtype: int64"
      ]
     },
     "execution_count": 21,
     "metadata": {},
     "output_type": "execute_result"
    }
   ],
   "source": [
    "np.sum(test_data.isna())"
   ]
  },
  {
   "cell_type": "code",
   "execution_count": 22,
   "metadata": {},
   "outputs": [
    {
     "name": "stdout",
     "output_type": "stream",
     "text": [
      "(625134, 41)\n"
     ]
    }
   ],
   "source": [
    "np.sum(test_data.isna())\n",
    "print(test_data.shape)"
   ]
  },
  {
   "cell_type": "code",
   "execution_count": 23,
   "metadata": {},
   "outputs": [],
   "source": [
    "def blizzardTest(x):\n",
    "    return(not((x.strftime('%Y-%m-%d')< '2016-01-22' ) | ( x.strftime('%Y-%m-%d') > '2016-01-29' )))\n",
    "\n",
    "test_data['blizzard'] = test_data['date'].apply(lambda x : blizzardTest(x)).astype(int)\n",
    "\n",
    "\n",
    "test_data['passenger_count'] = test_data['passenger_count'].astype(int)\n",
    "test_data['vendor_id'] = test_data['vendor_id'].astype(int)\n",
    "#test_data['store_and_fwd_flag'] = test_data['store_and_fwd_flag'].astype(int)\n",
    "test_data['jfk_trip'] = test_data['jfk_trip'].astype(int)\n",
    "test_data['lg_trip'] = test_data['lg_trip'].astype(int)\n",
    "test_data['work'] = test_data['work'].astype(int)\n",
    "test_data['has_snow'] = test_data['has_snow'].astype(int)\n",
    "test_data['has_rain'] = test_data['has_rain'].astype(int)\n",
    "\n",
    "test_data = test_data.drop(columns=['pickup_year','pickup_minute'])\n",
    "\n",
    "\n",
    "\n"
   ]
  },
  {
   "cell_type": "code",
   "execution_count": 24,
   "metadata": {},
   "outputs": [
    {
     "data": {
      "text/plain": [
       "\"foo1 = train_data.drop(columns=['id','pickup_datetime','dropoff_datetime','jfk_dist_pick','jfk_dist_drop',\\n                        'lg_dist_pick','lg_dist_drop','date'])\""
      ]
     },
     "execution_count": 24,
     "metadata": {},
     "output_type": "execute_result"
    }
   ],
   "source": [
    "\"\"\"foo1 = train_data.drop(columns=['id','pickup_datetime','dropoff_datetime','jfk_dist_pick','jfk_dist_drop',\n",
    "                        'lg_dist_pick','lg_dist_drop','date'])\"\"\""
   ]
  },
  {
   "cell_type": "code",
   "execution_count": 25,
   "metadata": {},
   "outputs": [
    {
     "data": {
      "text/plain": [
       "(625134, 40)"
      ]
     },
     "execution_count": 25,
     "metadata": {},
     "output_type": "execute_result"
    }
   ],
   "source": [
    "test_data.shape"
   ]
  },
  {
   "cell_type": "code",
   "execution_count": 26,
   "metadata": {},
   "outputs": [
    {
     "data": {
      "image/png": "[encoded data removed]",
      "text/plain": [
       "<Figure size 1152x648 with 2 Axes>"
      ]
     },
     "metadata": {},
     "output_type": "display_data"
    }
   ],
   "source": [
    "import seaborn as sns\n",
    "corr = test_data.corr()\n",
    "ax = sns.heatmap(\n",
    "    corr, \n",
    "    vmin=-1, vmax=1, center=0,\n",
    "    cmap=sns.diverging_palette(20, 220, n=200),\n",
    "    square=True\n",
    ")\n",
    "ax.set_xticklabels(\n",
    "    ax.get_xticklabels(),\n",
    "    rotation=45,\n",
    "    horizontalalignment='right'\n",
    ");"
   ]
  },
  {
   "cell_type": "code",
   "execution_count": 27,
   "metadata": {},
   "outputs": [
    {
     "data": {
      "text/plain": [
       "\"foo = train_data.drop(columns=['store_and_fwd_flag', 'pickup_hour', 'rain', 's_fall', 'all_precip',\\n         'has_rain', 's_depth', 'minimum temperature', 'maximum temperature',\\n         'pickup_weekday', 'right_turns', 'turns'])\\n\\ncorr = foo.corr()\\nax = sns.heatmap(\\n    corr, \\n    vmin=-1, vmax=1, center=0,\\n    cmap=sns.diverging_palette(20, 220, n=200),\\n    square=True\\n)\\nax.set_xticklabels(\\n    ax.get_xticklabels(),\\n    rotation=45,\\n    horizontalalignment='right'\\n);\""
      ]
     },
     "execution_count": 27,
     "metadata": {},
     "output_type": "execute_result"
    }
   ],
   "source": [
    "\"\"\"foo = train_data.drop(columns=['store_and_fwd_flag', 'pickup_hour', 'rain', 's_fall', 'all_precip',\n",
    "         'has_rain', 's_depth', 'minimum temperature', 'maximum temperature',\n",
    "         'pickup_weekday', 'right_turns', 'turns'])\n",
    "\n",
    "corr = foo.corr()\n",
    "ax = sns.heatmap(\n",
    "    corr, \n",
    "    vmin=-1, vmax=1, center=0,\n",
    "    cmap=sns.diverging_palette(20, 220, n=200),\n",
    "    square=True\n",
    ")\n",
    "ax.set_xticklabels(\n",
    "    ax.get_xticklabels(),\n",
    "    rotation=45,\n",
    "    horizontalalignment='right'\n",
    ");\"\"\""
   ]
  },
  {
   "cell_type": "code",
   "execution_count": 28,
   "metadata": {},
   "outputs": [],
   "source": [
    "data = test_data.drop(columns = ['id','pickup_datetime',\n",
    "                            'store_and_fwd_flag','date'])\n",
    "\n"
   ]
  },
  {
   "cell_type": "code",
   "execution_count": 29,
   "metadata": {},
   "outputs": [],
   "source": [
    "data.to_csv('preprocessed_test_data.csv')"
   ]
  },
  {
   "cell_type": "code",
   "execution_count": 30,
   "metadata": {},
   "outputs": [
    {
     "data": {
      "text/plain": [
       "id                                  object\n",
       "vendor_id                            int64\n",
       "pickup_datetime             datetime64[ns]\n",
       "passenger_count                      int64\n",
       "pickup_longitude                   float64\n",
       "pickup_latitude                    float64\n",
       "dropoff_longitude                  float64\n",
       "dropoff_latitude                   float64\n",
       "store_and_fwd_flag                  object\n",
       "direction                          float64\n",
       "distance_haversine                 float64\n",
       "distance_dummy_manhattan           float64\n",
       "pickup_month                         int64\n",
       "pickup_day                           int64\n",
       "pickup_hour                          int64\n",
       "pickup_weekday                       int64\n",
       "jfk_dist_pick                      float64\n",
       "jfk_dist_drop                      float64\n",
       "lg_dist_pick                       float64\n",
       "lg_dist_drop                       float64\n",
       "jfk_trip                             int64\n",
       "lg_trip                              int64\n",
       "work                                 int64\n",
       "date                        datetime64[ns]\n",
       "rain                               float64\n",
       "s_fall                             float64\n",
       "all_precip                         float64\n",
       "has_snow                             int64\n",
       "has_rain                             int64\n",
       "s_depth                            float64\n",
       "minimum temperature                  int64\n",
       "maximum temperature                  int64\n",
       "total_distance                     float64\n",
       "total_travel_time                  float64\n",
       "number_of_steps                      int64\n",
       "fastest_speed                      float64\n",
       "left_turns                           int64\n",
       "right_turns                          int64\n",
       "turns                                int64\n",
       "blizzard                             int64\n",
       "dtype: object"
      ]
     },
     "execution_count": 30,
     "metadata": {},
     "output_type": "execute_result"
    }
   ],
   "source": [
    "test_data.dtypes"
   ]
  },
  {
   "cell_type": "code",
   "execution_count": 31,
   "metadata": {},
   "outputs": [
    {
     "data": {
      "text/plain": [
       "(625134, 40)"
      ]
     },
     "execution_count": 31,
     "metadata": {},
     "output_type": "execute_result"
    }
   ],
   "source": [
    "test_data.shape"
   ]
  },
  {
   "cell_type": "code",
   "execution_count": null,
   "metadata": {},
   "outputs": [],
   "source": []
  }
 ],
 "metadata": {
  "kernelspec": {
   "display_name": "Python 3.7.3 64-bit ('base': conda)",
   "language": "python",
   "name": "python37364bitbaseconda7bdb38472b8447b1a3c551411def93ed"
  },
  "language_info": {
   "codemirror_mode": {
    "name": "ipython",
    "version": 3
   },
   "file_extension": ".py",
   "mimetype": "text/x-python",
   "name": "python",
   "nbconvert_exporter": "python",
   "pygments_lexer": "ipython3",
   "version": "3.7.4"
  }
 },
 "nbformat": 4,
 "nbformat_minor": 4
}
